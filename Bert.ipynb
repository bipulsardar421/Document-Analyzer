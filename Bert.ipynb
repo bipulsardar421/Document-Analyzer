{
  "nbformat": 4,
  "nbformat_minor": 0,
  "metadata": {
    "colab": {
      "provenance": [],
      "mount_file_id": "1QigVHZwbYdmz6bciqJPKMb9hIWxyA7w0",
      "authorship_tag": "ABX9TyMvNn3GpMrUyzBC2jUmn55M",
      "include_colab_link": true
    },
    "kernelspec": {
      "name": "python3",
      "display_name": "Python 3"
    },
    "language_info": {
      "name": "python"
    }
  },
  "cells": [
    {
      "cell_type": "markdown",
      "metadata": {
        "id": "view-in-github",
        "colab_type": "text"
      },
      "source": [
        "<a href=\"https://colab.research.google.com/github/bipulsardar421/Document-Analyzer/blob/main/Bert.ipynb\" target=\"_parent\"><img src=\"https://colab.research.google.com/assets/colab-badge.svg\" alt=\"Open In Colab\"/></a>"
      ]
    },
    {
      "cell_type": "code",
      "source": [
        "# !pip install PyMuPDF scikit-learn matplotlib\n",
        "# !pip install pdf2image\n",
        "# !pip install transformers\n",
        "# !pip install PyPDF2==2.12.1\n",
        "# !pip install pymupdf\n",
        "# !pip install pytesseract\n",
        "# !sudo apt install tesseract-ocr\n",
        "# !pip install transformers\n",
        "# !pip install torch\n",
        "# !pip install tokenizers\n",
        "# !pip install datasets"
      ],
      "metadata": {
        "id": "7r2wWVQlaI0p"
      },
      "execution_count": null,
      "outputs": []
    },
    {
      "cell_type": "code",
      "source": [
        "import fitz\n",
        "import json\n",
        "import os\n",
        "import pytesseract\n",
        "from PIL import Image"
      ],
      "metadata": {
        "id": "cwmj6Aransb0"
      },
      "execution_count": 2,
      "outputs": []
    },
    {
      "cell_type": "markdown",
      "source": [
        "# **Test 1 to convert pdf into json, tried on only Amwins Folder**"
      ],
      "metadata": {
        "id": "9rk-RBhMkU7c"
      }
    },
    {
      "cell_type": "code",
      "source": [
        "\n",
        "\n",
        "def extract_text_to_json(pdf_path, output_json_path):\n",
        "    doc = fitz.open(pdf_path)\n",
        "    json_data = []\n",
        "    for page_num, page in enumerate(doc):\n",
        "        page_data = page.get_text(\"json\")\n",
        "        json_data.append({\n",
        "            \"page\": page_num,\n",
        "            \"data\": json.loads(page_data)\n",
        "        })\n",
        "    with open(output_json_path, 'w', encoding='utf-8') as json_file:\n",
        "        json.dump(json_data, json_file, ensure_ascii=False, indent=4)\n",
        "\n",
        "\n",
        "def process_pdf_folder(folder_path):\n",
        "\n",
        "    pdf_files = []\n",
        "\n",
        "\n",
        "    for filename in os.listdir(folder_path):\n",
        "        file_path = os.path.join(folder_path, filename)\n",
        "\n",
        "\n",
        "        if os.path.isfile(file_path) and file_path.lower().endswith('.pdf'):\n",
        "            pdf_files.append(file_path)\n",
        "\n",
        "    for pdf_path in pdf_files:\n",
        "\n",
        "        json_output_path = os.path.splitext(pdf_path)[0] + '.json'\n",
        "\n",
        "\n",
        "        extract_text_to_json(pdf_path, json_output_path)\n",
        "        print(f\"Extracted text from '{pdf_path}' to '{json_output_path}'\")\n",
        "\n",
        "\n",
        "quote_folder = \"/content/drive/MyDrive/Training Files/Task_Bipul/Quote/Amwins\"\n",
        "process_pdf_folder(quote_folder)\n"
      ],
      "metadata": {
        "colab": {
          "base_uri": "https://localhost:8080/"
        },
        "id": "zJyyGJV_bQe4",
        "outputId": "19089aee-a3e1-4da5-afa7-e81de02034a2"
      },
      "execution_count": null,
      "outputs": [
        {
          "output_type": "stream",
          "name": "stdout",
          "text": [
            "Extracted text from '/content/drive/MyDrive/Training Files/Task_Bipul/Quote/Amwins/2023 07 QUOTE Excess $15M xs$10M Security Nat_l frm Amwins.pdf' to '/content/drive/MyDrive/Training Files/Task_Bipul/Quote/Amwins/2023 07 QUOTE Excess $15M xs$10M Security Nat_l frm Amwins.json'\n",
            "Extracted text from '/content/drive/MyDrive/Training Files/Task_Bipul/Quote/Amwins/2023 02 QUO CUMB EvanstonAmWins (Bound) (2).pdf' to '/content/drive/MyDrive/Training Files/Task_Bipul/Quote/Amwins/2023 02 QUO CUMB EvanstonAmWins (Bound) (2).json'\n",
            "Extracted text from '/content/drive/MyDrive/Training Files/Task_Bipul/Quote/Amwins/2023 03 QUO CUMB EvanstonAmwins $708.pdf' to '/content/drive/MyDrive/Training Files/Task_Bipul/Quote/Amwins/2023 03 QUO CUMB EvanstonAmwins $708.json'\n",
            "Extracted text from '/content/drive/MyDrive/Training Files/Task_Bipul/Quote/Amwins/2023 12 QUO GLIA AMWINS.pdf' to '/content/drive/MyDrive/Training Files/Task_Bipul/Quote/Amwins/2023 12 QUO GLIA AMWINS.json'\n",
            "Extracted text from '/content/drive/MyDrive/Training Files/Task_Bipul/Quote/Amwins/2023 07 BIND CUMB.pdf' to '/content/drive/MyDrive/Training Files/Task_Bipul/Quote/Amwins/2023 07 BIND CUMB.json'\n",
            "Extracted text from '/content/drive/MyDrive/Training Files/Task_Bipul/Quote/Amwins/2023 07 QUO CUMB.pdf' to '/content/drive/MyDrive/Training Files/Task_Bipul/Quote/Amwins/2023 07 QUO CUMB.json'\n",
            "Extracted text from '/content/drive/MyDrive/Training Files/Task_Bipul/Quote/Amwins/2024 02 QUO UMB Evanston $661.pdf' to '/content/drive/MyDrive/Training Files/Task_Bipul/Quote/Amwins/2024 02 QUO UMB Evanston $661.json'\n",
            "Extracted text from '/content/drive/MyDrive/Training Files/Task_Bipul/Quote/Amwins/2023 06 QUO CUMB.pdf' to '/content/drive/MyDrive/Training Files/Task_Bipul/Quote/Amwins/2023 06 QUO CUMB.json'\n",
            "Extracted text from '/content/drive/MyDrive/Training Files/Task_Bipul/Quote/Amwins/2023 02 QUO CUMB.pdf' to '/content/drive/MyDrive/Training Files/Task_Bipul/Quote/Amwins/2023 02 QUO CUMB.json'\n",
            "Extracted text from '/content/drive/MyDrive/Training Files/Task_Bipul/Quote/Amwins/2023 02 QUO CUMB EvanstonAmWins (Bound).pdf' to '/content/drive/MyDrive/Training Files/Task_Bipul/Quote/Amwins/2023 02 QUO CUMB EvanstonAmWins (Bound).json'\n",
            "Extracted text from '/content/drive/MyDrive/Training Files/Task_Bipul/Quote/Amwins/2023 05 QUO CUMB.pdf' to '/content/drive/MyDrive/Training Files/Task_Bipul/Quote/Amwins/2023 05 QUO CUMB.json'\n",
            "Extracted text from '/content/drive/MyDrive/Training Files/Task_Bipul/Quote/Amwins/2023 05 QUO CUMB-1.pdf' to '/content/drive/MyDrive/Training Files/Task_Bipul/Quote/Amwins/2023 05 QUO CUMB-1.json'\n",
            "Extracted text from '/content/drive/MyDrive/Training Files/Task_Bipul/Quote/Amwins/2023 05 QUO CUMB EvanstonAmWins (Bound).pdf' to '/content/drive/MyDrive/Training Files/Task_Bipul/Quote/Amwins/2023 05 QUO CUMB EvanstonAmWins (Bound).json'\n",
            "Extracted text from '/content/drive/MyDrive/Training Files/Task_Bipul/Quote/Amwins/2023 02 QUO UMB.pdf' to '/content/drive/MyDrive/Training Files/Task_Bipul/Quote/Amwins/2023 02 QUO UMB.json'\n"
          ]
        }
      ]
    },
    {
      "cell_type": "markdown",
      "source": [
        "# **Test 2 same as Test 1**"
      ],
      "metadata": {
        "id": "3vNGKptxkmnV"
      }
    },
    {
      "cell_type": "code",
      "source": [
        "\n",
        "\n",
        "\n",
        "def extract_text_to_json(pdf_path, output_json_dir):\n",
        "    doc = fitz.open(pdf_path)\n",
        "    json_data = []\n",
        "    for page_num, page in enumerate(doc):\n",
        "        page_data = page.get_text(\"json\")\n",
        "        json_data.append({\n",
        "            \"page\": page_num,\n",
        "            \"data\": json.loads(page_data)\n",
        "        })\n",
        "\n",
        "    filename = os.path.splitext(os.path.basename(pdf_path))[0]\n",
        "\n",
        "    output_json_path = os.path.join(output_json_dir, f\"{filename}.json\")\n",
        "\n",
        "    with open(output_json_path, 'w', encoding='utf-8') as json_file:\n",
        "        json.dump(json_data, json_file, ensure_ascii=False, indent=4)\n",
        "\n",
        "\n",
        "def process_pdf_folder(folder_path, output_json_dir):\n",
        "\n",
        "    pdf_files = []\n",
        "\n",
        "\n",
        "    for filename in os.listdir(folder_path):\n",
        "        file_path = os.path.join(folder_path, filename)\n",
        "\n",
        "        if os.path.isfile(file_path) and file_path.lower().endswith('.pdf'):\n",
        "            pdf_files.append(file_path)\n",
        "\n",
        "\n",
        "    for pdf_path in pdf_files:\n",
        "\n",
        "        extract_text_to_json(pdf_path, output_json_dir)\n",
        "        print(f\"Extracted text from '{pdf_path}' to '{output_json_dir}'\")\n",
        "\n",
        "\n",
        "quote_folder = \"/content/drive/MyDrive/Training Files/Task_Bipul/Quote/Amwins\"\n",
        "output_json_dir = \"/content/sample_data/jsonFile\"\n",
        "process_pdf_folder(quote_folder, output_json_dir)\n"
      ],
      "metadata": {
        "colab": {
          "base_uri": "https://localhost:8080/"
        },
        "id": "l-QOPKtqFqA4",
        "outputId": "c64130bd-17ce-405e-e9bf-3fcab7183860"
      },
      "execution_count": null,
      "outputs": [
        {
          "output_type": "stream",
          "name": "stdout",
          "text": [
            "Extracted text from '/content/drive/MyDrive/Training Files/Task_Bipul/Quote/Amwins/2023 07 QUOTE Excess $15M xs$10M Security Nat_l frm Amwins.pdf' to '/content/sample_data/jsonFile'\n",
            "Extracted text from '/content/drive/MyDrive/Training Files/Task_Bipul/Quote/Amwins/2023 02 QUO CUMB EvanstonAmWins (Bound) (2).pdf' to '/content/sample_data/jsonFile'\n",
            "Extracted text from '/content/drive/MyDrive/Training Files/Task_Bipul/Quote/Amwins/2023 03 QUO CUMB EvanstonAmwins $708.pdf' to '/content/sample_data/jsonFile'\n",
            "Extracted text from '/content/drive/MyDrive/Training Files/Task_Bipul/Quote/Amwins/2023 12 QUO GLIA AMWINS.pdf' to '/content/sample_data/jsonFile'\n",
            "Extracted text from '/content/drive/MyDrive/Training Files/Task_Bipul/Quote/Amwins/2023 07 BIND CUMB.pdf' to '/content/sample_data/jsonFile'\n",
            "Extracted text from '/content/drive/MyDrive/Training Files/Task_Bipul/Quote/Amwins/2023 07 QUO CUMB.pdf' to '/content/sample_data/jsonFile'\n",
            "Extracted text from '/content/drive/MyDrive/Training Files/Task_Bipul/Quote/Amwins/2024 02 QUO UMB Evanston $661.pdf' to '/content/sample_data/jsonFile'\n",
            "Extracted text from '/content/drive/MyDrive/Training Files/Task_Bipul/Quote/Amwins/2023 06 QUO CUMB.pdf' to '/content/sample_data/jsonFile'\n",
            "Extracted text from '/content/drive/MyDrive/Training Files/Task_Bipul/Quote/Amwins/2023 02 QUO CUMB.pdf' to '/content/sample_data/jsonFile'\n",
            "Extracted text from '/content/drive/MyDrive/Training Files/Task_Bipul/Quote/Amwins/2023 02 QUO CUMB EvanstonAmWins (Bound).pdf' to '/content/sample_data/jsonFile'\n",
            "Extracted text from '/content/drive/MyDrive/Training Files/Task_Bipul/Quote/Amwins/2023 05 QUO CUMB.pdf' to '/content/sample_data/jsonFile'\n",
            "Extracted text from '/content/drive/MyDrive/Training Files/Task_Bipul/Quote/Amwins/2023 05 QUO CUMB-1.pdf' to '/content/sample_data/jsonFile'\n",
            "Extracted text from '/content/drive/MyDrive/Training Files/Task_Bipul/Quote/Amwins/2023 05 QUO CUMB EvanstonAmWins (Bound).pdf' to '/content/sample_data/jsonFile'\n",
            "Extracted text from '/content/drive/MyDrive/Training Files/Task_Bipul/Quote/Amwins/2023 02 QUO UMB.pdf' to '/content/sample_data/jsonFile'\n"
          ]
        }
      ]
    },
    {
      "cell_type": "markdown",
      "source": [
        "# **Test 3 Tried on All the folders inside Quote, process is similar to Test 1 and 2, the only difference is here it is looping the main folder and sub folder to create the JSON files.**"
      ],
      "metadata": {
        "id": "vUB8t1S9k2hb"
      }
    },
    {
      "cell_type": "code",
      "source": [
        "\n",
        "\n",
        "\n",
        "def extract_text_to_json(pdf_path, output_json_dir):\n",
        "    doc = fitz.open(pdf_path)\n",
        "    json_data = []\n",
        "    for page_num, page in enumerate(doc):\n",
        "        page_data = page.get_text(\"json\")\n",
        "        json_data.append({\n",
        "            \"page\": page_num,\n",
        "            \"data\": json.loads(page_data)\n",
        "        })\n",
        "\n",
        "    filename = os.path.splitext(os.path.basename(pdf_path))[0]\n",
        "\n",
        "    output_json_path = os.path.join(output_json_dir, f\"{filename}.json\")\n",
        "\n",
        "    with open(output_json_path, 'w', encoding='utf-8') as json_file:\n",
        "        json.dump(json_data, json_file, ensure_ascii=False, indent=4)\n",
        "\n",
        "\n",
        "def process_quote_folder(quote_folder):\n",
        "\n",
        "    for root, _, files in os.walk(quote_folder):\n",
        "        for file in files:\n",
        "            if file.lower().endswith('.pdf'):\n",
        "                pdf_path = os.path.join(root, file)\n",
        "\n",
        "                extract_text_to_json(pdf_path, root)\n",
        "                print(f\"Extracted text from '{pdf_path}' to '{root}'\")\n",
        "\n",
        "\n",
        "quote_folder = \"/content/drive/MyDrive/Training Files/Task_Bipul/Quote\"\n",
        "process_quote_folder(quote_folder)\n"
      ],
      "metadata": {
        "id": "y67qmHKnHBin"
      },
      "execution_count": null,
      "outputs": []
    },
    {
      "cell_type": "markdown",
      "source": [
        "# Final Test, It will loop through all the folders as well as subfolders does everything as Test 3, difference: It has OCR capability to recognise Images and extracted it seperately, currently there is no use of it but kept it for future implementation. Also it can create the json files in the same directory where it found the pdf file.\n",
        "\n"
      ],
      "metadata": {
        "id": "D9vyUEYOlHZ7"
      }
    },
    {
      "cell_type": "code",
      "source": [
        "\n",
        "\n",
        "\n",
        "pytesseract.pytesseract.tesseract_cmd = r'/usr/bin/tesseract'\n",
        "\n",
        "\n",
        "def perform_ocr(image_path):\n",
        "    image = Image.open(image_path)\n",
        "    text = pytesseract.image_to_string(image)\n",
        "    return text\n",
        "\n",
        "\n",
        "def extract_text_to_json(pdf_path, output_json_dir):\n",
        "    doc = fitz.open(pdf_path)\n",
        "    json_data = []\n",
        "\n",
        "    for page_num, page in enumerate(doc):\n",
        "        images_list = page.get_images(full=True)\n",
        "\n",
        "        if images_list:\n",
        "            for img_idx, img_info in enumerate(images_list):\n",
        "                xref = img_info[0]\n",
        "                base_image = doc.extract_image(xref)\n",
        "                image_bytes = base_image[\"image\"]\n",
        "                image_extension = base_image[\"ext\"]\n",
        "                image_filename = f\"{pdf_path}_page{page_num+1}_image{img_idx+1}.{image_extension}\"\n",
        "                image_path = os.path.join(output_images_dir, image_filename)\n",
        "\n",
        "                with open(image_path, \"wb\") as image_file:\n",
        "                    image_file.write(image_bytes)\n",
        "\n",
        "                ocr_text = perform_ocr(image_path)\n",
        "                json_data.append({\n",
        "                    \"page\": page_num,\n",
        "                    \"image_index\": img_idx,\n",
        "                    \"ocr_text\": ocr_text\n",
        "                })\n",
        "\n",
        "        page_data = page.get_text(\"json\")\n",
        "        json_data.append({\n",
        "            \"page\": page_num,\n",
        "            \"data\": json.loads(page_data)\n",
        "        })\n",
        "\n",
        "\n",
        "    filename = os.path.splitext(os.path.basename(pdf_path))[0]\n",
        "\n",
        "    output_json_path = os.path.join(output_json_dir, f\"{filename}.json\")\n",
        "\n",
        "    with open(output_json_path, 'w', encoding='utf-8') as json_file:\n",
        "        json.dump(json_data, json_file, ensure_ascii=False, indent=4)\n",
        "\n",
        "\n",
        "def process_quote_folder(quote_folder):\n",
        "\n",
        "    for root, _, files in os.walk(quote_folder):\n",
        "        for file in files:\n",
        "            if file.lower().endswith('.pdf'):\n",
        "                pdf_path = os.path.join(root, file)\n",
        "\n",
        "                extract_text_to_json(pdf_path, root)\n",
        "                print(f\"Extracted text from '{pdf_path}' to '{root}'\")\n",
        "\n",
        "\n",
        "quote_folder = \"/content/drive/MyDrive/Training Files/Task_Bipul\"\n",
        "output_images_dir = \"/Task_Bipul/OCR_Images\"\n",
        "process_quote_folder(quote_folder)\n"
      ],
      "metadata": {
        "id": "P2_K0KFEISEh"
      },
      "execution_count": null,
      "outputs": []
    },
    {
      "cell_type": "markdown",
      "source": [
        "# **This is to loop through each folder find the json files created after conversion, then create a metadata file which will hold the location for the json files, what document it belongs to [\"Quote\", \"Binder\", \"Accord\", \"Endorsement\", (\"not considered Policy Document, as it has bigger files which takes more processing power\") ] , and to which company it belongs to.**\n",
        "\n"
      ],
      "metadata": {
        "id": "BYYTnuBRmAo9"
      }
    },
    {
      "cell_type": "code",
      "source": [
        "\n",
        "\n",
        "\n",
        "def create_json_metadata(root_folder, output_json_path):\n",
        "    document_types = [\"Quote\", \"Binder\", \"Accord\", \"Endorsement\"]\n",
        "    metadata = []\n",
        "\n",
        "    for document_type in document_types:\n",
        "        document_type_folder = os.path.join(root_folder, document_type)\n",
        "        if not os.path.exists(document_type_folder):\n",
        "            continue\n",
        "\n",
        "        for company in os.listdir(document_type_folder):\n",
        "            company_folder = os.path.join(document_type_folder, company)\n",
        "            if not os.path.isdir(company_folder):\n",
        "                continue\n",
        "\n",
        "            for file in os.listdir(company_folder):\n",
        "                if file.lower().endswith('.json'):\n",
        "                    file_path = os.path.join(company_folder, file)\n",
        "                    relative_file_path = os.path.relpath(file_path, root_folder)\n",
        "                    metadata.append({\n",
        "                        \"file_name\": relative_file_path,\n",
        "                        \"document_type\": document_type,\n",
        "                        \"company\": company\n",
        "                    })\n",
        "\n",
        "\n",
        "    with open(output_json_path, 'w', encoding='utf-8') as output_file:\n",
        "        json.dump(metadata, output_file, ensure_ascii=False, indent=4)\n",
        "\n",
        "    print(f\"Metadata JSON created at: {output_json_path}\")\n",
        "\n",
        "root_folder = \"/content/drive/MyDrive/Training Files/Task_Bipul\"\n",
        "output_json_path = \"/content/drive/MyDrive/Training Files/Task_Bipul/document_metadata.json\"\n",
        "create_json_metadata(root_folder, output_json_path)\n"
      ],
      "metadata": {
        "colab": {
          "base_uri": "https://localhost:8080/"
        },
        "id": "M6A7atYf_bbe",
        "outputId": "6d230543-4ff1-4b65-9bad-d1e8fb334c1e"
      },
      "execution_count": 4,
      "outputs": [
        {
          "output_type": "stream",
          "name": "stdout",
          "text": [
            "Metadata JSON created at: /content/drive/MyDrive/Training Files/Task_Bipul/document_metadata.json\n"
          ]
        }
      ]
    },
    {
      "source": [
        "file_path = '/content/drive/MyDrive/Training Files/Task_Bipul/document_metadata.json'\n",
        "\n",
        "with open(file_path, 'r') as f:\n",
        "    metadata = json.load(f)\n",
        "print(metadata)\n",
        "\n",
        "for keys in metadata:\n",
        "    print('/content/drive/MyDrive/Training Files/Task_Bipul'+'/'+keys['file_name'])"
      ],
      "cell_type": "code",
      "metadata": {
        "colab": {
          "base_uri": "https://localhost:8080/"
        },
        "id": "U-NwfBBKOwjd",
        "outputId": "01d8d357-5fcb-446f-eebb-81b56c511388"
      },
      "execution_count": 4,
      "outputs": [
        {
          "output_type": "stream",
          "name": "stdout",
          "text": [
            "[{'file_name': 'Quote/United Educator/2023 03 Quote GLIAUMB AJG.json', 'document_type': 'Quote', 'company': 'United Educator'}, {'file_name': 'Quote/PeachTree/2023 07 QUO CUMB RichmondPeachtree (Bound).json', 'document_type': 'Quote', 'company': 'PeachTree'}, {'file_name': 'Quote/PeachTree/2023 08 QUO CUMB RichmondPeachtree (Bound).json', 'document_type': 'Quote', 'company': 'PeachTree'}, {'file_name': 'Quote/PeachTree/2023 08 QUO CUMB.json', 'document_type': 'Quote', 'company': 'PeachTree'}, {'file_name': 'Quote/PeachTree/2023 03 QUO CUMB.json', 'document_type': 'Quote', 'company': 'PeachTree'}, {'file_name': 'Quote/PeachTree/2023 02 QUO CUMB.json', 'document_type': 'Quote', 'company': 'PeachTree'}, {'file_name': 'Quote/Riemer/2023 01 QUO CUMB Abacus.json', 'document_type': 'Quote', 'company': 'Riemer'}, {'file_name': 'Quote/Riemer/Palm Tree Crew Events Liability Coverage Paperwor2023 01 APPQUO CUMB signed by insd k - Signed.json', 'document_type': 'Quote', 'company': 'Riemer'}, {'file_name': 'Quote/StarStone Specialty Insurance Company/2023 09 QUO CUMB Attune Renewal Quote @ $4,475.json', 'document_type': 'Quote', 'company': 'StarStone Specialty Insurance Company'}, {'file_name': 'Quote/StarStone Specialty Insurance Company/Copy of 2023 11 QUO CUMB AmWins.json', 'document_type': 'Quote', 'company': 'StarStone Specialty Insurance Company'}, {'file_name': 'Quote/StarStone Specialty Insurance Company/2023 11 QUO CUMB AmWins.json', 'document_type': 'Quote', 'company': 'StarStone Specialty Insurance Company'}, {'file_name': 'Quote/Amwins/2023 07 QUOTE Excess $15M xs$10M Security Nat_l frm Amwins.json', 'document_type': 'Quote', 'company': 'Amwins'}, {'file_name': 'Quote/Amwins/2023 02 QUO CUMB EvanstonAmWins (Bound) (2).json', 'document_type': 'Quote', 'company': 'Amwins'}, {'file_name': 'Quote/Amwins/2023 03 QUO CUMB EvanstonAmwins $708.json', 'document_type': 'Quote', 'company': 'Amwins'}, {'file_name': 'Quote/Amwins/2023 12 QUO GLIA AMWINS.json', 'document_type': 'Quote', 'company': 'Amwins'}, {'file_name': 'Quote/Amwins/2023 07 BIND CUMB.json', 'document_type': 'Quote', 'company': 'Amwins'}, {'file_name': 'Quote/Amwins/2023 07 QUO CUMB.json', 'document_type': 'Quote', 'company': 'Amwins'}, {'file_name': 'Quote/Amwins/2024 02 QUO UMB Evanston $661.json', 'document_type': 'Quote', 'company': 'Amwins'}, {'file_name': 'Quote/Amwins/2023 06 QUO CUMB.json', 'document_type': 'Quote', 'company': 'Amwins'}, {'file_name': 'Quote/Amwins/2023 02 QUO CUMB.json', 'document_type': 'Quote', 'company': 'Amwins'}, {'file_name': 'Quote/Amwins/2023 02 QUO CUMB EvanstonAmWins (Bound).json', 'document_type': 'Quote', 'company': 'Amwins'}, {'file_name': 'Quote/Amwins/2023 05 QUO CUMB.json', 'document_type': 'Quote', 'company': 'Amwins'}, {'file_name': 'Quote/Amwins/2023 05 QUO CUMB-1.json', 'document_type': 'Quote', 'company': 'Amwins'}, {'file_name': 'Quote/Amwins/2023 05 QUO CUMB EvanstonAmWins (Bound).json', 'document_type': 'Quote', 'company': 'Amwins'}, {'file_name': 'Quote/Amwins/2023 02 QUO UMB.json', 'document_type': 'Quote', 'company': 'Amwins'}, {'file_name': 'Quote/Imperium Insurance Company/2023 01 QUO MULTI_.json', 'document_type': 'Quote', 'company': 'Imperium Insurance Company'}, {'file_name': 'Quote/Imperium Insurance Company/2023 02 QUO MULTI.json', 'document_type': 'Quote', 'company': 'Imperium Insurance Company'}, {'file_name': 'Quote/Imperium Insurance Company/2023 04 QUO MULTI.json', 'document_type': 'Quote', 'company': 'Imperium Insurance Company'}, {'file_name': 'Quote/Imperium Insurance Company/2023 07 QUO MULTI__.json', 'document_type': 'Quote', 'company': 'Imperium Insurance Company'}, {'file_name': 'Quote/Imperium Insurance Company/2023 01 QUO MULTI.json', 'document_type': 'Quote', 'company': 'Imperium Insurance Company'}, {'file_name': 'Quote/Imperium Insurance Company/2023 12 QUO MULTI--.json', 'document_type': 'Quote', 'company': 'Imperium Insurance Company'}, {'file_name': 'Quote/Imperium Insurance Company/2023 10 QUO MULTI.json', 'document_type': 'Quote', 'company': 'Imperium Insurance Company'}, {'file_name': 'Quote/Imperium Insurance Company/2023 12 QUO MULTI.json', 'document_type': 'Quote', 'company': 'Imperium Insurance Company'}, {'file_name': 'Quote/Imperium Insurance Company/2023 08 QUO MULTI.json', 'document_type': 'Quote', 'company': 'Imperium Insurance Company'}, {'file_name': 'Quote/Imperium Insurance Company/2023 07 QUO MULTI.json', 'document_type': 'Quote', 'company': 'Imperium Insurance Company'}, {'file_name': 'Quote/Imperium Insurance Company/_2023 01 QUO MULTI.json', 'document_type': 'Quote', 'company': 'Imperium Insurance Company'}, {'file_name': 'Quote/Imperium Insurance Company/2024 01 QUO MULTI.json', 'document_type': 'Quote', 'company': 'Imperium Insurance Company'}, {'file_name': 'Quote/Imperium Insurance Company/2023 12 QUO MULTI_.json', 'document_type': 'Quote', 'company': 'Imperium Insurance Company'}, {'file_name': 'Quote/AURA/2024 01 QUO CUMB $10M Option (Bound).json', 'document_type': 'Quote', 'company': 'AURA'}, {'file_name': 'Quote/AURA/2023 01 QUO CUMB Aura (Bound).json', 'document_type': 'Quote', 'company': 'AURA'}, {'file_name': 'Quote/AURA/2024 01 QUO CUMB $10M Option (Bound) (2).json', 'document_type': 'Quote', 'company': 'AURA'}, {'file_name': 'Quote/AURA/2023 02 QUO CUMB XL InsuranceAura.json', 'document_type': 'Quote', 'company': 'AURA'}, {'file_name': 'Quote/AURA/2023 07 QUO CUMB.json', 'document_type': 'Quote', 'company': 'AURA'}, {'file_name': 'Quote/AURA/2023 05 QUO CUMB AURA.json', 'document_type': 'Quote', 'company': 'AURA'}, {'file_name': 'Quote/Berkshire Hathaway Direct Insurance Company/2023 02 QUO CUMB.json', 'document_type': 'Quote', 'company': 'Berkshire Hathaway Direct Insurance Company'}, {'file_name': 'Quote/Alaska/2023 05 QUO CUMB.json', 'document_type': 'Quote', 'company': 'Alaska'}, {'file_name': 'Quote/Great Point Insurance/2024 01 QUO UMB Umbrella PRO.json', 'document_type': 'Quote', 'company': 'Great Point Insurance'}, {'file_name': 'Quote/Great Point Insurance/2023 07 QUO CUMB Allied WorldGreat Point.json', 'document_type': 'Quote', 'company': 'Great Point Insurance'}, {'file_name': 'Quote/Great Point Insurance/2023 05 QUO CUMB(1).json', 'document_type': 'Quote', 'company': 'Great Point Insurance'}, {'file_name': 'Quote/Great Point Insurance/2023 06 QUO CUMB Allied WorldGreay Point (Bound).json', 'document_type': 'Quote', 'company': 'Great Point Insurance'}, {'file_name': 'Quote/Great Point Insurance/2023 06 QUO CUMB.json', 'document_type': 'Quote', 'company': 'Great Point Insurance'}, {'file_name': 'Quote/Great Point Insurance/2023 09 QUO CUMB.json', 'document_type': 'Quote', 'company': 'Great Point Insurance'}, {'file_name': 'Quote/Great Point Insurance/2023 04 QUO CUMB.json', 'document_type': 'Quote', 'company': 'Great Point Insurance'}, {'file_name': 'Quote/Great Point Insurance/2023 05 QUO CUMB.json', 'document_type': 'Quote', 'company': 'Great Point Insurance'}, {'file_name': 'Quote/Great Point Insurance/2023 04 QUO CUMB(2).json', 'document_type': 'Quote', 'company': 'Great Point Insurance'}, {'file_name': 'Quote/Great Point Insurance/2023 06 QUO CUMB Allied WorldGreat Point.json', 'document_type': 'Quote', 'company': 'Great Point Insurance'}, {'file_name': 'Quote/Great Point Insurance/2023 04 QUO CUMB UmbrellaPro $1,750.json', 'document_type': 'Quote', 'company': 'Great Point Insurance'}, {'file_name': 'Quote/Great Point Insurance/2023 04 QUO CUMB(3).json', 'document_type': 'Quote', 'company': 'Great Point Insurance'}, {'file_name': 'Quote/Great Point Insurance/2023 01 QUOTE UMB Umbrella Pro-1.json', 'document_type': 'Quote', 'company': 'Great Point Insurance'}, {'file_name': 'Quote/Great Point Insurance/2023 03 QUOTE UMB UMB PRO.json', 'document_type': 'Quote', 'company': 'Great Point Insurance'}, {'file_name': 'Quote/Great Point Insurance/2023 02 Quote UMB $10m Umbrella Pro.json', 'document_type': 'Quote', 'company': 'Great Point Insurance'}, {'file_name': 'Quote/Great Point Insurance/2023 04 QUO CUMB(1).json', 'document_type': 'Quote', 'company': 'Great Point Insurance'}, {'file_name': 'Quote/Great Point Insurance/2022 02 QUO CUMB Great PointUmbrella Pro $1,000.json', 'document_type': 'Quote', 'company': 'Great Point Insurance'}, {'file_name': 'Quote/Great Point Insurance/2023 01 QUOTE UMB Umbrella Pro.json', 'document_type': 'Quote', 'company': 'Great Point Insurance'}, {'file_name': 'Quote/Great Point Insurance/2023 01 QUO CUMB Great Point $2,090.json', 'document_type': 'Quote', 'company': 'Great Point Insurance'}, {'file_name': 'Quote/Great Point Insurance/2023 02 QUOTE UMB Umbrella Pro.json', 'document_type': 'Quote', 'company': 'Great Point Insurance'}, {'file_name': 'Binder/PeachTree/2023 07 BIND CUMB RichmondPeachtree.json', 'document_type': 'Binder', 'company': 'PeachTree'}, {'file_name': 'Binder/Nautilus Insurance Company/2023 11 Umb Midtown Binder.json', 'document_type': 'Binder', 'company': 'Nautilus Insurance Company'}, {'file_name': 'Binder/Nautilus Insurance Company/2023 11 Umb Binder Midtown.json', 'document_type': 'Binder', 'company': 'Nautilus Insurance Company'}, {'file_name': 'Binder/Great Point Insurance/2023 08 BIND CUMB Allied WorldGreat Point.json', 'document_type': 'Binder', 'company': 'Great Point Insurance'}, {'file_name': 'Binder/Great Point Insurance/2023 06 BIND CUMB.json', 'document_type': 'Binder', 'company': 'Great Point Insurance'}, {'file_name': 'Binder/Great Point Insurance/2023 10 BIND CUMB Allied WorldGreat Point.json', 'document_type': 'Binder', 'company': 'Great Point Insurance'}, {'file_name': 'Binder/Great Point Insurance/2023 08 BIND CUMB Allied Word-Great Point.json', 'document_type': 'Binder', 'company': 'Great Point Insurance'}, {'file_name': 'Binder/Great Point Insurance/2023 09 BIND CUMB (Great Point).json', 'document_type': 'Binder', 'company': 'Great Point Insurance'}, {'file_name': 'Binder/Great Point Insurance/2023 08 BIND CUMB.json', 'document_type': 'Binder', 'company': 'Great Point Insurance'}, {'file_name': 'Binder/Great Point Insurance/2023 06 BIND CUMB Allied World-Great Point.json', 'document_type': 'Binder', 'company': 'Great Point Insurance'}, {'file_name': 'Binder/Great Point Insurance/2023 06 BIND CUMB Allied WorldGreat Point.json', 'document_type': 'Binder', 'company': 'Great Point Insurance'}, {'file_name': 'Binder/Great Point Insurance/2023 05 BIND CUMB Allied WorldGreat Point.json', 'document_type': 'Binder', 'company': 'Great Point Insurance'}, {'file_name': 'Binder/Great Point Insurance/2023 09 BIND CUMB.json', 'document_type': 'Binder', 'company': 'Great Point Insurance'}, {'file_name': 'Binder/Great Point Insurance/2023 07 BIND CUMB Allied World-Great Point.json', 'document_type': 'Binder', 'company': 'Great Point Insurance'}, {'file_name': 'Binder/Great Point Insurance/2023 06 BIND CUMB Great Point.json', 'document_type': 'Binder', 'company': 'Great Point Insurance'}, {'file_name': 'Binder/Great Point Insurance/2023 06 BIND CUMB Great Point Renewal Binder @ $3,300.json', 'document_type': 'Binder', 'company': 'Great Point Insurance'}, {'file_name': 'Binder/Great Point Insurance/2023 04 BIND CUMB Great Point.json', 'document_type': 'Binder', 'company': 'Great Point Insurance'}, {'file_name': 'Binder/Great Point Insurance/2023 04 BIND CUMB(1).json', 'document_type': 'Binder', 'company': 'Great Point Insurance'}, {'file_name': 'Binder/Great Point Insurance/2023 04 BIND CUMB from GreatPoint.json', 'document_type': 'Binder', 'company': 'Great Point Insurance'}, {'file_name': 'Binder/Great Point Insurance/2023 05 BIND CUMB Allied WorldGreat Point(1).json', 'document_type': 'Binder', 'company': 'Great Point Insurance'}, {'file_name': 'Binder/Great Point Insurance/2023 04 BIND CUMB.json', 'document_type': 'Binder', 'company': 'Great Point Insurance'}, {'file_name': 'Binder/Great Point Insurance/2023 04 BIND CUMB Allied WorldGreat Point.json', 'document_type': 'Binder', 'company': 'Great Point Insurance'}, {'file_name': 'Binder/Great Point Insurance/2023 03 BIND CUMB Great Point.json', 'document_type': 'Binder', 'company': 'Great Point Insurance'}, {'file_name': 'Binder/Great Point Insurance/2023 01 BINDER UMB Umbrlla Pro.json', 'document_type': 'Binder', 'company': 'Great Point Insurance'}, {'file_name': 'Binder/Great Point Insurance/2023 01 BIND CUMB Great PointAllied World.json', 'document_type': 'Binder', 'company': 'Great Point Insurance'}, {'file_name': 'Binder/Great Point Insurance/2023 02 BIND CUMB Allied World-Great Point-FP Lula II.json', 'document_type': 'Binder', 'company': 'Great Point Insurance'}, {'file_name': 'Binder/Great Point Insurance/2023 02 BIND CUMB Great Point(1).json', 'document_type': 'Binder', 'company': 'Great Point Insurance'}, {'file_name': 'Binder/Great Point Insurance/2023 03 BINDER UMB UMB PRO.json', 'document_type': 'Binder', 'company': 'Great Point Insurance'}, {'file_name': 'Binder/Great Point Insurance/2023 02 Binder Umbrella Umbrella Pro.json', 'document_type': 'Binder', 'company': 'Great Point Insurance'}, {'file_name': 'Binder/Great Point Insurance/2023 04 BIND CUMB Allied WoldGreat Point.json', 'document_type': 'Binder', 'company': 'Great Point Insurance'}, {'file_name': 'Binder/Great Point Insurance/2023 02 BINDER UMB Umbrella Pro.json', 'document_type': 'Binder', 'company': 'Great Point Insurance'}, {'file_name': 'Binder/Great Point Insurance/2023 02 BIND CUMB Great Point.json', 'document_type': 'Binder', 'company': 'Great Point Insurance'}, {'file_name': 'Binder/Great Point Insurance/2024 01 BIND CUMB Great Point.json', 'document_type': 'Binder', 'company': 'Great Point Insurance'}, {'file_name': 'Binder/Great Point Insurance/2024 01 BIND UMB Umbrella PRO.json', 'document_type': 'Binder', 'company': 'Great Point Insurance'}, {'file_name': 'Binder/Bridge Speciality Insurance Company/2023 08 BIND CUMB.json', 'document_type': 'Binder', 'company': 'Bridge Speciality Insurance Company'}, {'file_name': 'Binder/Bridge Speciality Insurance Company/2023 08 BIND CUMB RichmondPeachtree.json', 'document_type': 'Binder', 'company': 'Bridge Speciality Insurance Company'}, {'file_name': 'Binder/Amwins/2023 06 Umb Binder.json', 'document_type': 'Binder', 'company': 'Amwins'}, {'file_name': 'Binder/Amwins/2023 12 Umb Binder Bonita Springs.json', 'document_type': 'Binder', 'company': 'Amwins'}, {'file_name': 'Binder/Amwins/2023 08 BIND CUMB AmWins 15 xs 10.json', 'document_type': 'Binder', 'company': 'Amwins'}, {'file_name': 'Binder/Markel/2023 02 BIND CUMB.json', 'document_type': 'Binder', 'company': 'Markel'}, {'file_name': 'Binder/Markel/2023 02 BIND CUMB EvanstonAmWins.json', 'document_type': 'Binder', 'company': 'Markel'}, {'file_name': 'Binder/Markel/2023 03 BIND CUMB.json', 'document_type': 'Binder', 'company': 'Markel'}, {'file_name': 'Binder/Markel/2023 09 BIND CUMB.json', 'document_type': 'Binder', 'company': 'Markel'}, {'file_name': 'Binder/Markel/2023 02 BIND CUMB EvanstonAmWins (2).json', 'document_type': 'Binder', 'company': 'Markel'}, {'file_name': 'Endorsement/StarStone Specialty Insurance Company/2023 03 ENDT CUMB Amending named insured.json', 'document_type': 'Endorsement', 'company': 'StarStone Specialty Insurance Company'}, {'file_name': 'Endorsement/Philadelphia Indemnity Insurance Company/2022 12 ENDT 2 CUMB eff 09.19.json', 'document_type': 'Endorsement', 'company': 'Philadelphia Indemnity Insurance Company'}, {'file_name': 'Endorsement/Philadelphia Indemnity Insurance Company/2024 01 ENDT CUMB Named Insured Entity Change.json', 'document_type': 'Endorsement', 'company': 'Philadelphia Indemnity Insurance Company'}, {'file_name': 'Endorsement/Riemer/2023 02 END CUMB 112123 Add new location.json', 'document_type': 'Endorsement', 'company': 'Riemer'}, {'file_name': 'Endorsement/AmTrust/2022 01 AUDI WCFL.json', 'document_type': 'Endorsement', 'company': 'AmTrust'}, {'file_name': 'Endorsement/Paramount Real Estate Group, Inc/2023 06 ENDT CUMB Eff 06.15.json', 'document_type': 'Endorsement', 'company': 'Paramount Real Estate Group, Inc'}, {'file_name': 'Endorsement/Paramount Real Estate Group, Inc/2023 08 ENDT CUMB Endt #1 amedning ma to co Jay Jenkins 11011 Sheridan St #208.json', 'document_type': 'Endorsement', 'company': 'Paramount Real Estate Group, Inc'}, {'file_name': 'Endorsement/Paramount Real Estate Group, Inc/2023 03 ENDT CUMB to Amend Mailing Address to 4601 Sheridan Street, Suite 200 EM to Insured.json', 'document_type': 'Endorsement', 'company': 'Paramount Real Estate Group, Inc'}, {'file_name': 'Endorsement/Paramount Real Estate Group, Inc/2023 08 CUMB ENDT endt #1 amending MA.json', 'document_type': 'Endorsement', 'company': 'Paramount Real Estate Group, Inc'}]\n",
            "/content/drive/MyDrive/Training Files/Task_Bipul/Quote/United Educator/2023 03 Quote GLIAUMB AJG.json\n",
            "/content/drive/MyDrive/Training Files/Task_Bipul/Quote/PeachTree/2023 07 QUO CUMB RichmondPeachtree (Bound).json\n",
            "/content/drive/MyDrive/Training Files/Task_Bipul/Quote/PeachTree/2023 08 QUO CUMB RichmondPeachtree (Bound).json\n",
            "/content/drive/MyDrive/Training Files/Task_Bipul/Quote/PeachTree/2023 08 QUO CUMB.json\n",
            "/content/drive/MyDrive/Training Files/Task_Bipul/Quote/PeachTree/2023 03 QUO CUMB.json\n",
            "/content/drive/MyDrive/Training Files/Task_Bipul/Quote/PeachTree/2023 02 QUO CUMB.json\n",
            "/content/drive/MyDrive/Training Files/Task_Bipul/Quote/Riemer/2023 01 QUO CUMB Abacus.json\n",
            "/content/drive/MyDrive/Training Files/Task_Bipul/Quote/Riemer/Palm Tree Crew Events Liability Coverage Paperwor2023 01 APPQUO CUMB signed by insd k - Signed.json\n",
            "/content/drive/MyDrive/Training Files/Task_Bipul/Quote/StarStone Specialty Insurance Company/2023 09 QUO CUMB Attune Renewal Quote @ $4,475.json\n",
            "/content/drive/MyDrive/Training Files/Task_Bipul/Quote/StarStone Specialty Insurance Company/Copy of 2023 11 QUO CUMB AmWins.json\n",
            "/content/drive/MyDrive/Training Files/Task_Bipul/Quote/StarStone Specialty Insurance Company/2023 11 QUO CUMB AmWins.json\n",
            "/content/drive/MyDrive/Training Files/Task_Bipul/Quote/Amwins/2023 07 QUOTE Excess $15M xs$10M Security Nat_l frm Amwins.json\n",
            "/content/drive/MyDrive/Training Files/Task_Bipul/Quote/Amwins/2023 02 QUO CUMB EvanstonAmWins (Bound) (2).json\n",
            "/content/drive/MyDrive/Training Files/Task_Bipul/Quote/Amwins/2023 03 QUO CUMB EvanstonAmwins $708.json\n",
            "/content/drive/MyDrive/Training Files/Task_Bipul/Quote/Amwins/2023 12 QUO GLIA AMWINS.json\n",
            "/content/drive/MyDrive/Training Files/Task_Bipul/Quote/Amwins/2023 07 BIND CUMB.json\n",
            "/content/drive/MyDrive/Training Files/Task_Bipul/Quote/Amwins/2023 07 QUO CUMB.json\n",
            "/content/drive/MyDrive/Training Files/Task_Bipul/Quote/Amwins/2024 02 QUO UMB Evanston $661.json\n",
            "/content/drive/MyDrive/Training Files/Task_Bipul/Quote/Amwins/2023 06 QUO CUMB.json\n",
            "/content/drive/MyDrive/Training Files/Task_Bipul/Quote/Amwins/2023 02 QUO CUMB.json\n",
            "/content/drive/MyDrive/Training Files/Task_Bipul/Quote/Amwins/2023 02 QUO CUMB EvanstonAmWins (Bound).json\n",
            "/content/drive/MyDrive/Training Files/Task_Bipul/Quote/Amwins/2023 05 QUO CUMB.json\n",
            "/content/drive/MyDrive/Training Files/Task_Bipul/Quote/Amwins/2023 05 QUO CUMB-1.json\n",
            "/content/drive/MyDrive/Training Files/Task_Bipul/Quote/Amwins/2023 05 QUO CUMB EvanstonAmWins (Bound).json\n",
            "/content/drive/MyDrive/Training Files/Task_Bipul/Quote/Amwins/2023 02 QUO UMB.json\n",
            "/content/drive/MyDrive/Training Files/Task_Bipul/Quote/Imperium Insurance Company/2023 01 QUO MULTI_.json\n",
            "/content/drive/MyDrive/Training Files/Task_Bipul/Quote/Imperium Insurance Company/2023 02 QUO MULTI.json\n",
            "/content/drive/MyDrive/Training Files/Task_Bipul/Quote/Imperium Insurance Company/2023 04 QUO MULTI.json\n",
            "/content/drive/MyDrive/Training Files/Task_Bipul/Quote/Imperium Insurance Company/2023 07 QUO MULTI__.json\n",
            "/content/drive/MyDrive/Training Files/Task_Bipul/Quote/Imperium Insurance Company/2023 01 QUO MULTI.json\n",
            "/content/drive/MyDrive/Training Files/Task_Bipul/Quote/Imperium Insurance Company/2023 12 QUO MULTI--.json\n",
            "/content/drive/MyDrive/Training Files/Task_Bipul/Quote/Imperium Insurance Company/2023 10 QUO MULTI.json\n",
            "/content/drive/MyDrive/Training Files/Task_Bipul/Quote/Imperium Insurance Company/2023 12 QUO MULTI.json\n",
            "/content/drive/MyDrive/Training Files/Task_Bipul/Quote/Imperium Insurance Company/2023 08 QUO MULTI.json\n",
            "/content/drive/MyDrive/Training Files/Task_Bipul/Quote/Imperium Insurance Company/2023 07 QUO MULTI.json\n",
            "/content/drive/MyDrive/Training Files/Task_Bipul/Quote/Imperium Insurance Company/_2023 01 QUO MULTI.json\n",
            "/content/drive/MyDrive/Training Files/Task_Bipul/Quote/Imperium Insurance Company/2024 01 QUO MULTI.json\n",
            "/content/drive/MyDrive/Training Files/Task_Bipul/Quote/Imperium Insurance Company/2023 12 QUO MULTI_.json\n",
            "/content/drive/MyDrive/Training Files/Task_Bipul/Quote/AURA/2024 01 QUO CUMB $10M Option (Bound).json\n",
            "/content/drive/MyDrive/Training Files/Task_Bipul/Quote/AURA/2023 01 QUO CUMB Aura (Bound).json\n",
            "/content/drive/MyDrive/Training Files/Task_Bipul/Quote/AURA/2024 01 QUO CUMB $10M Option (Bound) (2).json\n",
            "/content/drive/MyDrive/Training Files/Task_Bipul/Quote/AURA/2023 02 QUO CUMB XL InsuranceAura.json\n",
            "/content/drive/MyDrive/Training Files/Task_Bipul/Quote/AURA/2023 07 QUO CUMB.json\n",
            "/content/drive/MyDrive/Training Files/Task_Bipul/Quote/AURA/2023 05 QUO CUMB AURA.json\n",
            "/content/drive/MyDrive/Training Files/Task_Bipul/Quote/Berkshire Hathaway Direct Insurance Company/2023 02 QUO CUMB.json\n",
            "/content/drive/MyDrive/Training Files/Task_Bipul/Quote/Alaska/2023 05 QUO CUMB.json\n",
            "/content/drive/MyDrive/Training Files/Task_Bipul/Quote/Great Point Insurance/2024 01 QUO UMB Umbrella PRO.json\n",
            "/content/drive/MyDrive/Training Files/Task_Bipul/Quote/Great Point Insurance/2023 07 QUO CUMB Allied WorldGreat Point.json\n",
            "/content/drive/MyDrive/Training Files/Task_Bipul/Quote/Great Point Insurance/2023 05 QUO CUMB(1).json\n",
            "/content/drive/MyDrive/Training Files/Task_Bipul/Quote/Great Point Insurance/2023 06 QUO CUMB Allied WorldGreay Point (Bound).json\n",
            "/content/drive/MyDrive/Training Files/Task_Bipul/Quote/Great Point Insurance/2023 06 QUO CUMB.json\n",
            "/content/drive/MyDrive/Training Files/Task_Bipul/Quote/Great Point Insurance/2023 09 QUO CUMB.json\n",
            "/content/drive/MyDrive/Training Files/Task_Bipul/Quote/Great Point Insurance/2023 04 QUO CUMB.json\n",
            "/content/drive/MyDrive/Training Files/Task_Bipul/Quote/Great Point Insurance/2023 05 QUO CUMB.json\n",
            "/content/drive/MyDrive/Training Files/Task_Bipul/Quote/Great Point Insurance/2023 04 QUO CUMB(2).json\n",
            "/content/drive/MyDrive/Training Files/Task_Bipul/Quote/Great Point Insurance/2023 06 QUO CUMB Allied WorldGreat Point.json\n",
            "/content/drive/MyDrive/Training Files/Task_Bipul/Quote/Great Point Insurance/2023 04 QUO CUMB UmbrellaPro $1,750.json\n",
            "/content/drive/MyDrive/Training Files/Task_Bipul/Quote/Great Point Insurance/2023 04 QUO CUMB(3).json\n",
            "/content/drive/MyDrive/Training Files/Task_Bipul/Quote/Great Point Insurance/2023 01 QUOTE UMB Umbrella Pro-1.json\n",
            "/content/drive/MyDrive/Training Files/Task_Bipul/Quote/Great Point Insurance/2023 03 QUOTE UMB UMB PRO.json\n",
            "/content/drive/MyDrive/Training Files/Task_Bipul/Quote/Great Point Insurance/2023 02 Quote UMB $10m Umbrella Pro.json\n",
            "/content/drive/MyDrive/Training Files/Task_Bipul/Quote/Great Point Insurance/2023 04 QUO CUMB(1).json\n",
            "/content/drive/MyDrive/Training Files/Task_Bipul/Quote/Great Point Insurance/2022 02 QUO CUMB Great PointUmbrella Pro $1,000.json\n",
            "/content/drive/MyDrive/Training Files/Task_Bipul/Quote/Great Point Insurance/2023 01 QUOTE UMB Umbrella Pro.json\n",
            "/content/drive/MyDrive/Training Files/Task_Bipul/Quote/Great Point Insurance/2023 01 QUO CUMB Great Point $2,090.json\n",
            "/content/drive/MyDrive/Training Files/Task_Bipul/Quote/Great Point Insurance/2023 02 QUOTE UMB Umbrella Pro.json\n",
            "/content/drive/MyDrive/Training Files/Task_Bipul/Binder/PeachTree/2023 07 BIND CUMB RichmondPeachtree.json\n",
            "/content/drive/MyDrive/Training Files/Task_Bipul/Binder/Nautilus Insurance Company/2023 11 Umb Midtown Binder.json\n",
            "/content/drive/MyDrive/Training Files/Task_Bipul/Binder/Nautilus Insurance Company/2023 11 Umb Binder Midtown.json\n",
            "/content/drive/MyDrive/Training Files/Task_Bipul/Binder/Great Point Insurance/2023 08 BIND CUMB Allied WorldGreat Point.json\n",
            "/content/drive/MyDrive/Training Files/Task_Bipul/Binder/Great Point Insurance/2023 06 BIND CUMB.json\n",
            "/content/drive/MyDrive/Training Files/Task_Bipul/Binder/Great Point Insurance/2023 10 BIND CUMB Allied WorldGreat Point.json\n",
            "/content/drive/MyDrive/Training Files/Task_Bipul/Binder/Great Point Insurance/2023 08 BIND CUMB Allied Word-Great Point.json\n",
            "/content/drive/MyDrive/Training Files/Task_Bipul/Binder/Great Point Insurance/2023 09 BIND CUMB (Great Point).json\n",
            "/content/drive/MyDrive/Training Files/Task_Bipul/Binder/Great Point Insurance/2023 08 BIND CUMB.json\n",
            "/content/drive/MyDrive/Training Files/Task_Bipul/Binder/Great Point Insurance/2023 06 BIND CUMB Allied World-Great Point.json\n",
            "/content/drive/MyDrive/Training Files/Task_Bipul/Binder/Great Point Insurance/2023 06 BIND CUMB Allied WorldGreat Point.json\n",
            "/content/drive/MyDrive/Training Files/Task_Bipul/Binder/Great Point Insurance/2023 05 BIND CUMB Allied WorldGreat Point.json\n",
            "/content/drive/MyDrive/Training Files/Task_Bipul/Binder/Great Point Insurance/2023 09 BIND CUMB.json\n",
            "/content/drive/MyDrive/Training Files/Task_Bipul/Binder/Great Point Insurance/2023 07 BIND CUMB Allied World-Great Point.json\n",
            "/content/drive/MyDrive/Training Files/Task_Bipul/Binder/Great Point Insurance/2023 06 BIND CUMB Great Point.json\n",
            "/content/drive/MyDrive/Training Files/Task_Bipul/Binder/Great Point Insurance/2023 06 BIND CUMB Great Point Renewal Binder @ $3,300.json\n",
            "/content/drive/MyDrive/Training Files/Task_Bipul/Binder/Great Point Insurance/2023 04 BIND CUMB Great Point.json\n",
            "/content/drive/MyDrive/Training Files/Task_Bipul/Binder/Great Point Insurance/2023 04 BIND CUMB(1).json\n",
            "/content/drive/MyDrive/Training Files/Task_Bipul/Binder/Great Point Insurance/2023 04 BIND CUMB from GreatPoint.json\n",
            "/content/drive/MyDrive/Training Files/Task_Bipul/Binder/Great Point Insurance/2023 05 BIND CUMB Allied WorldGreat Point(1).json\n",
            "/content/drive/MyDrive/Training Files/Task_Bipul/Binder/Great Point Insurance/2023 04 BIND CUMB.json\n",
            "/content/drive/MyDrive/Training Files/Task_Bipul/Binder/Great Point Insurance/2023 04 BIND CUMB Allied WorldGreat Point.json\n",
            "/content/drive/MyDrive/Training Files/Task_Bipul/Binder/Great Point Insurance/2023 03 BIND CUMB Great Point.json\n",
            "/content/drive/MyDrive/Training Files/Task_Bipul/Binder/Great Point Insurance/2023 01 BINDER UMB Umbrlla Pro.json\n",
            "/content/drive/MyDrive/Training Files/Task_Bipul/Binder/Great Point Insurance/2023 01 BIND CUMB Great PointAllied World.json\n",
            "/content/drive/MyDrive/Training Files/Task_Bipul/Binder/Great Point Insurance/2023 02 BIND CUMB Allied World-Great Point-FP Lula II.json\n",
            "/content/drive/MyDrive/Training Files/Task_Bipul/Binder/Great Point Insurance/2023 02 BIND CUMB Great Point(1).json\n",
            "/content/drive/MyDrive/Training Files/Task_Bipul/Binder/Great Point Insurance/2023 03 BINDER UMB UMB PRO.json\n",
            "/content/drive/MyDrive/Training Files/Task_Bipul/Binder/Great Point Insurance/2023 02 Binder Umbrella Umbrella Pro.json\n",
            "/content/drive/MyDrive/Training Files/Task_Bipul/Binder/Great Point Insurance/2023 04 BIND CUMB Allied WoldGreat Point.json\n",
            "/content/drive/MyDrive/Training Files/Task_Bipul/Binder/Great Point Insurance/2023 02 BINDER UMB Umbrella Pro.json\n",
            "/content/drive/MyDrive/Training Files/Task_Bipul/Binder/Great Point Insurance/2023 02 BIND CUMB Great Point.json\n",
            "/content/drive/MyDrive/Training Files/Task_Bipul/Binder/Great Point Insurance/2024 01 BIND CUMB Great Point.json\n",
            "/content/drive/MyDrive/Training Files/Task_Bipul/Binder/Great Point Insurance/2024 01 BIND UMB Umbrella PRO.json\n",
            "/content/drive/MyDrive/Training Files/Task_Bipul/Binder/Bridge Speciality Insurance Company/2023 08 BIND CUMB.json\n",
            "/content/drive/MyDrive/Training Files/Task_Bipul/Binder/Bridge Speciality Insurance Company/2023 08 BIND CUMB RichmondPeachtree.json\n",
            "/content/drive/MyDrive/Training Files/Task_Bipul/Binder/Amwins/2023 06 Umb Binder.json\n",
            "/content/drive/MyDrive/Training Files/Task_Bipul/Binder/Amwins/2023 12 Umb Binder Bonita Springs.json\n",
            "/content/drive/MyDrive/Training Files/Task_Bipul/Binder/Amwins/2023 08 BIND CUMB AmWins 15 xs 10.json\n",
            "/content/drive/MyDrive/Training Files/Task_Bipul/Binder/Markel/2023 02 BIND CUMB.json\n",
            "/content/drive/MyDrive/Training Files/Task_Bipul/Binder/Markel/2023 02 BIND CUMB EvanstonAmWins.json\n",
            "/content/drive/MyDrive/Training Files/Task_Bipul/Binder/Markel/2023 03 BIND CUMB.json\n",
            "/content/drive/MyDrive/Training Files/Task_Bipul/Binder/Markel/2023 09 BIND CUMB.json\n",
            "/content/drive/MyDrive/Training Files/Task_Bipul/Binder/Markel/2023 02 BIND CUMB EvanstonAmWins (2).json\n",
            "/content/drive/MyDrive/Training Files/Task_Bipul/Endorsement/StarStone Specialty Insurance Company/2023 03 ENDT CUMB Amending named insured.json\n",
            "/content/drive/MyDrive/Training Files/Task_Bipul/Endorsement/Philadelphia Indemnity Insurance Company/2022 12 ENDT 2 CUMB eff 09.19.json\n",
            "/content/drive/MyDrive/Training Files/Task_Bipul/Endorsement/Philadelphia Indemnity Insurance Company/2024 01 ENDT CUMB Named Insured Entity Change.json\n",
            "/content/drive/MyDrive/Training Files/Task_Bipul/Endorsement/Riemer/2023 02 END CUMB 112123 Add new location.json\n",
            "/content/drive/MyDrive/Training Files/Task_Bipul/Endorsement/AmTrust/2022 01 AUDI WCFL.json\n",
            "/content/drive/MyDrive/Training Files/Task_Bipul/Endorsement/Paramount Real Estate Group, Inc/2023 06 ENDT CUMB Eff 06.15.json\n",
            "/content/drive/MyDrive/Training Files/Task_Bipul/Endorsement/Paramount Real Estate Group, Inc/2023 08 ENDT CUMB Endt #1 amedning ma to co Jay Jenkins 11011 Sheridan St #208.json\n",
            "/content/drive/MyDrive/Training Files/Task_Bipul/Endorsement/Paramount Real Estate Group, Inc/2023 03 ENDT CUMB to Amend Mailing Address to 4601 Sheridan Street, Suite 200 EM to Insured.json\n",
            "/content/drive/MyDrive/Training Files/Task_Bipul/Endorsement/Paramount Real Estate Group, Inc/2023 08 CUMB ENDT endt #1 amending MA.json\n"
          ]
        }
      ]
    },
    {
      "cell_type": "code",
      "source": [
        "import json\n",
        "from sklearn.feature_extraction.text import TfidfVectorizer\n",
        "import os\n",
        "\n",
        "# Path to the metadata JSON file\n",
        "metadata_file = '/content/drive/MyDrive/Training Files/Task_Bipul/document_metadata.json'\n",
        "\n",
        "# Function to load individual JSON files and extract text data\n",
        "def load_json_file(file_path):\n",
        "    with open(file_path, 'r', encoding='utf-8') as json_file:\n",
        "        data = json.load(json_file)\n",
        "    text_content = []\n",
        "    for page_info in data:\n",
        "        # Check if 'data' key exists before accessing it\n",
        "        if 'data' in page_info:\n",
        "            for item in page_info['data']:\n",
        "                # Check if 'text' key exists in the item and it's a string\n",
        "                if isinstance(item, dict) and 'text' in item:\n",
        "                    text_content.append(item['text'])\n",
        "    return ' '.join(text_content)\n",
        "\n",
        "# Function to process metadata and vectorize document contents\n",
        "def process_documents(metadata_file):\n",
        "    with open(metadata_file, 'r', encoding='utf-8') as meta_file:\n",
        "        metadata = json.load(meta_file)\n",
        "\n",
        "    documents = []\n",
        "    document_types = []\n",
        "    companies = []\n",
        "\n",
        "    for entry in metadata:\n",
        "        file_name = entry['file_name']\n",
        "        document_type = entry['document_type']\n",
        "        company = entry['company']\n",
        "\n",
        "        # Load the JSON file and extract text content\n",
        "        json_file_path = os.path.join('/content/drive/MyDrive/Training Files/Task_Bipul', file_name)\n",
        "        text_content = load_json_file(json_file_path)\n",
        "\n",
        "        # Store document metadata and content\n",
        "        documents.append(text_content)\n",
        "        document_types.append(document_type)\n",
        "        companies.append(company)\n",
        "\n",
        "    # Vectorization (using TF-IDF as an example)\n",
        "    vectorizer = TfidfVectorizer(stop_words='english')  # Customize parameters as needed\n",
        "    X = vectorizer.fit_transform(documents)\n",
        "\n",
        "    return X, document_types, companies\n",
        "\n",
        "# Example usage\n",
        "X, document_types, companies = process_documents(metadata_file)\n",
        "\n",
        "# Print shape of vectorized data (for verification)\n",
        "print(\"Shape of vectorized data:\", X.shape)\n",
        "\n",
        "# Now X contains the vectorized representation of documents, document_types and companies are the labels\n",
        "# Further steps: Train a model using X, document_types, companies for classification or other tasks"
      ],
      "metadata": {
        "colab": {
          "base_uri": "https://localhost:8080/",
          "height": 356
        },
        "id": "rz_MCTtZnF9k",
        "outputId": "0b8ef38b-e5a7-4239-be8b-230aaf858d37"
      },
      "execution_count": 8,
      "outputs": [
        {
          "output_type": "error",
          "ename": "KeyboardInterrupt",
          "evalue": "",
          "traceback": [
            "\u001b[0;31m---------------------------------------------------------------------------\u001b[0m",
            "\u001b[0;31mKeyboardInterrupt\u001b[0m                         Traceback (most recent call last)",
            "\u001b[0;32m<ipython-input-8-c6a9778f6f1d>\u001b[0m in \u001b[0;36m<cell line: 52>\u001b[0;34m()\u001b[0m\n\u001b[1;32m     50\u001b[0m \u001b[0;34m\u001b[0m\u001b[0m\n\u001b[1;32m     51\u001b[0m \u001b[0;31m# Example usage\u001b[0m\u001b[0;34m\u001b[0m\u001b[0;34m\u001b[0m\u001b[0m\n\u001b[0;32m---> 52\u001b[0;31m \u001b[0mX\u001b[0m\u001b[0;34m,\u001b[0m \u001b[0mdocument_types\u001b[0m\u001b[0;34m,\u001b[0m \u001b[0mcompanies\u001b[0m \u001b[0;34m=\u001b[0m \u001b[0mprocess_documents\u001b[0m\u001b[0;34m(\u001b[0m\u001b[0mmetadata_file\u001b[0m\u001b[0;34m)\u001b[0m\u001b[0;34m\u001b[0m\u001b[0;34m\u001b[0m\u001b[0m\n\u001b[0m\u001b[1;32m     53\u001b[0m \u001b[0;34m\u001b[0m\u001b[0m\n\u001b[1;32m     54\u001b[0m \u001b[0;31m# Print shape of vectorized data (for verification)\u001b[0m\u001b[0;34m\u001b[0m\u001b[0;34m\u001b[0m\u001b[0m\n",
            "\u001b[0;32m<ipython-input-8-c6a9778f6f1d>\u001b[0m in \u001b[0;36mprocess_documents\u001b[0;34m(metadata_file)\u001b[0m\n\u001b[1;32m     36\u001b[0m         \u001b[0;31m# Load the JSON file and extract text content\u001b[0m\u001b[0;34m\u001b[0m\u001b[0;34m\u001b[0m\u001b[0m\n\u001b[1;32m     37\u001b[0m         \u001b[0mjson_file_path\u001b[0m \u001b[0;34m=\u001b[0m \u001b[0mos\u001b[0m\u001b[0;34m.\u001b[0m\u001b[0mpath\u001b[0m\u001b[0;34m.\u001b[0m\u001b[0mjoin\u001b[0m\u001b[0;34m(\u001b[0m\u001b[0;34m'/content/drive/MyDrive/Training Files/Task_Bipul'\u001b[0m\u001b[0;34m,\u001b[0m \u001b[0mfile_name\u001b[0m\u001b[0;34m)\u001b[0m\u001b[0;34m\u001b[0m\u001b[0;34m\u001b[0m\u001b[0m\n\u001b[0;32m---> 38\u001b[0;31m         \u001b[0mtext_content\u001b[0m \u001b[0;34m=\u001b[0m \u001b[0mload_json_file\u001b[0m\u001b[0;34m(\u001b[0m\u001b[0mjson_file_path\u001b[0m\u001b[0;34m)\u001b[0m\u001b[0;34m\u001b[0m\u001b[0;34m\u001b[0m\u001b[0m\n\u001b[0m\u001b[1;32m     39\u001b[0m \u001b[0;34m\u001b[0m\u001b[0m\n\u001b[1;32m     40\u001b[0m         \u001b[0;31m# Store document metadata and content\u001b[0m\u001b[0;34m\u001b[0m\u001b[0;34m\u001b[0m\u001b[0m\n",
            "\u001b[0;32m<ipython-input-8-c6a9778f6f1d>\u001b[0m in \u001b[0;36mload_json_file\u001b[0;34m(file_path)\u001b[0m\n\u001b[1;32m      9\u001b[0m \u001b[0;32mdef\u001b[0m \u001b[0mload_json_file\u001b[0m\u001b[0;34m(\u001b[0m\u001b[0mfile_path\u001b[0m\u001b[0;34m)\u001b[0m\u001b[0;34m:\u001b[0m\u001b[0;34m\u001b[0m\u001b[0;34m\u001b[0m\u001b[0m\n\u001b[1;32m     10\u001b[0m     \u001b[0;32mwith\u001b[0m \u001b[0mopen\u001b[0m\u001b[0;34m(\u001b[0m\u001b[0mfile_path\u001b[0m\u001b[0;34m,\u001b[0m \u001b[0;34m'r'\u001b[0m\u001b[0;34m,\u001b[0m \u001b[0mencoding\u001b[0m\u001b[0;34m=\u001b[0m\u001b[0;34m'utf-8'\u001b[0m\u001b[0;34m)\u001b[0m \u001b[0;32mas\u001b[0m \u001b[0mjson_file\u001b[0m\u001b[0;34m:\u001b[0m\u001b[0;34m\u001b[0m\u001b[0;34m\u001b[0m\u001b[0m\n\u001b[0;32m---> 11\u001b[0;31m         \u001b[0mdata\u001b[0m \u001b[0;34m=\u001b[0m \u001b[0mjson\u001b[0m\u001b[0;34m.\u001b[0m\u001b[0mload\u001b[0m\u001b[0;34m(\u001b[0m\u001b[0mjson_file\u001b[0m\u001b[0;34m)\u001b[0m\u001b[0;34m\u001b[0m\u001b[0;34m\u001b[0m\u001b[0m\n\u001b[0m\u001b[1;32m     12\u001b[0m     \u001b[0mtext_content\u001b[0m \u001b[0;34m=\u001b[0m \u001b[0;34m[\u001b[0m\u001b[0;34m]\u001b[0m\u001b[0;34m\u001b[0m\u001b[0;34m\u001b[0m\u001b[0m\n\u001b[1;32m     13\u001b[0m     \u001b[0;32mfor\u001b[0m \u001b[0mpage_info\u001b[0m \u001b[0;32min\u001b[0m \u001b[0mdata\u001b[0m\u001b[0;34m:\u001b[0m\u001b[0;34m\u001b[0m\u001b[0;34m\u001b[0m\u001b[0m\n",
            "\u001b[0;32m/usr/lib/python3.10/json/__init__.py\u001b[0m in \u001b[0;36mload\u001b[0;34m(fp, cls, object_hook, parse_float, parse_int, parse_constant, object_pairs_hook, **kw)\u001b[0m\n\u001b[1;32m    291\u001b[0m     \u001b[0mkwarg\u001b[0m\u001b[0;34m;\u001b[0m \u001b[0motherwise\u001b[0m\u001b[0;31m \u001b[0m\u001b[0;31m`\u001b[0m\u001b[0;31m`\u001b[0m\u001b[0mJSONDecoder\u001b[0m\u001b[0;31m`\u001b[0m\u001b[0;31m`\u001b[0m \u001b[0;32mis\u001b[0m \u001b[0mused\u001b[0m\u001b[0;34m.\u001b[0m\u001b[0;34m\u001b[0m\u001b[0;34m\u001b[0m\u001b[0m\n\u001b[1;32m    292\u001b[0m     \"\"\"\n\u001b[0;32m--> 293\u001b[0;31m     return loads(fp.read(),\n\u001b[0m\u001b[1;32m    294\u001b[0m         \u001b[0mcls\u001b[0m\u001b[0;34m=\u001b[0m\u001b[0mcls\u001b[0m\u001b[0;34m,\u001b[0m \u001b[0mobject_hook\u001b[0m\u001b[0;34m=\u001b[0m\u001b[0mobject_hook\u001b[0m\u001b[0;34m,\u001b[0m\u001b[0;34m\u001b[0m\u001b[0;34m\u001b[0m\u001b[0m\n\u001b[1;32m    295\u001b[0m         \u001b[0mparse_float\u001b[0m\u001b[0;34m=\u001b[0m\u001b[0mparse_float\u001b[0m\u001b[0;34m,\u001b[0m \u001b[0mparse_int\u001b[0m\u001b[0;34m=\u001b[0m\u001b[0mparse_int\u001b[0m\u001b[0;34m,\u001b[0m\u001b[0;34m\u001b[0m\u001b[0;34m\u001b[0m\u001b[0m\n",
            "\u001b[0;32m/usr/lib/python3.10/codecs.py\u001b[0m in \u001b[0;36mdecode\u001b[0;34m(self, input, final)\u001b[0m\n\u001b[1;32m    317\u001b[0m         \u001b[0;32mraise\u001b[0m \u001b[0mNotImplementedError\u001b[0m\u001b[0;34m\u001b[0m\u001b[0;34m\u001b[0m\u001b[0m\n\u001b[1;32m    318\u001b[0m \u001b[0;34m\u001b[0m\u001b[0m\n\u001b[0;32m--> 319\u001b[0;31m     \u001b[0;32mdef\u001b[0m \u001b[0mdecode\u001b[0m\u001b[0;34m(\u001b[0m\u001b[0mself\u001b[0m\u001b[0;34m,\u001b[0m \u001b[0minput\u001b[0m\u001b[0;34m,\u001b[0m \u001b[0mfinal\u001b[0m\u001b[0;34m=\u001b[0m\u001b[0;32mFalse\u001b[0m\u001b[0;34m)\u001b[0m\u001b[0;34m:\u001b[0m\u001b[0;34m\u001b[0m\u001b[0;34m\u001b[0m\u001b[0m\n\u001b[0m\u001b[1;32m    320\u001b[0m         \u001b[0;31m# decode input (taking the buffer into account)\u001b[0m\u001b[0;34m\u001b[0m\u001b[0;34m\u001b[0m\u001b[0m\n\u001b[1;32m    321\u001b[0m         \u001b[0mdata\u001b[0m \u001b[0;34m=\u001b[0m \u001b[0mself\u001b[0m\u001b[0;34m.\u001b[0m\u001b[0mbuffer\u001b[0m \u001b[0;34m+\u001b[0m \u001b[0minput\u001b[0m\u001b[0;34m\u001b[0m\u001b[0;34m\u001b[0m\u001b[0m\n",
            "\u001b[0;31mKeyboardInterrupt\u001b[0m: "
          ]
        }
      ]
    }
  ]
}